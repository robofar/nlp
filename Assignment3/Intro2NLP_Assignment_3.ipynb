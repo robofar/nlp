{
 "cells": [
  {
   "cell_type": "markdown",
   "id": "981ce393",
   "metadata": {
    "id": "981ce393"
   },
   "source": [
    "# Introduction to Natural Language Processing: Assignment 3\n",
    "\n",
    "In this exercise we'll practice features extraction using SpaCy as well as multiclass text classification using the word embedding technique.\n",
    "\n",
    "- You can use built-in Python packages, spaCy, scikit-learn, Numpy and Pandas.\n",
    "- Please comment your code\n",
    "- Submissions are due Tuesdays at 23:59 **only** on eCampus: **Assignmnets >> Student Submissions >> Assignment 3 (Deadline: 05.12.2023, at 23:59)**\n",
    "\n",
    "- Name the file aproppriately: \"Assignment_3_\\<Your_Name\\>.ipynb\" and submit only the Jupyter Notebook file.\n",
    "- Please use relative path, your code should work on my computer if the Jupyter Notebook and the file are both in the same directory.\n",
    "\n",
    "Example: file_name = bbc-news.csv, **DON'T use:** /Users/ComputerName/Username/Documents/.../bbc-news.csv"
   ]
  },
  {
   "cell_type": "markdown",
   "id": "d1325c5b",
   "metadata": {
    "id": "d1325c5b"
   },
   "source": [
    "### Task 1 (2 points)\n",
    "\n",
    "Write a function `extract_proper_nouns(my_file_name)` that takes a file name as input and returns a list containing all proper nouns with more than one token.\n",
    "\n",
    "**Example:**\n",
    "\n",
    "text = \"Honk Kong and Japan are two countries in Asia and New York is the largest city in the world\"\n",
    "\n",
    "return = `[\"New York\", \"Hong Kong\"]` **(Note: it should not return \"Japan\")**"
   ]
  },
  {
   "cell_type": "code",
   "execution_count": 1,
   "id": "61b82b5b-c692-4a2c-b586-da748bdba43e",
   "metadata": {
    "tags": []
   },
   "outputs": [],
   "source": [
    "import spacy"
   ]
  },
  {
   "cell_type": "code",
   "execution_count": 2,
   "id": "92133a54",
   "metadata": {
    "id": "92133a54"
   },
   "outputs": [],
   "source": [
    "def extract_proper_nouns(my_file_name):\n",
    "    # Load the spaCy English model\n",
    "    nlp = spacy.load(\"en_core_web_sm\")\n",
    "    # Read the content of the file\n",
    "    with open(my_file_name, 'r', encoding='utf-8') as file:\n",
    "        text = file.read()\n",
    "    \n",
    "    doc = nlp(text)\n",
    "    # Extract proper nouns with more than one token\n",
    "    several_token_propn = []\n",
    "    current_proper_noun = ''\n",
    "    \n",
    "    for token in doc:\n",
    "        if token.pos_ == 'PROPN':\n",
    "            current_proper_noun += token.text + ' '\n",
    "        else:\n",
    "            if (len(current_proper_noun.strip().split()) > 1):  # Check if the current_proper_noun is not empty\n",
    "                several_token_propn.append(current_proper_noun.strip())\n",
    "            current_proper_noun = ''\n",
    "                \n",
    "    return several_token_propn"
   ]
  },
  {
   "cell_type": "code",
   "execution_count": 3,
   "id": "5bcf0094-4f93-4fbc-941a-257eee2ff112",
   "metadata": {
    "tags": []
   },
   "outputs": [
    {
     "name": "stdout",
     "output_type": "stream",
     "text": [
      "['Hong Kong', 'New York']\n"
     ]
    }
   ],
   "source": [
    "print(extract_proper_nouns(\"task1.txt\"))"
   ]
  },
  {
   "cell_type": "code",
   "execution_count": null,
   "id": "4b0f966f-fbea-4b09-bec1-f6240a283824",
   "metadata": {},
   "outputs": [],
   "source": []
  },
  {
   "cell_type": "markdown",
   "id": "8d0a669e",
   "metadata": {
    "id": "8d0a669e"
   },
   "source": [
    "### Task 2 (4 points)\n",
    "\n",
    "Write a function `common_lemma(my_file_name)` that takes a file name as input and returns a Python dictionary with lemmas as `key` and the `value` that should contain a list with both verbs and nouns sharing the same lemma.\n",
    "\n",
    "**Examples:**\n",
    "\n",
    "1.\n",
    "text = \"When users google for a word or any query, their system internally runs a pipeline in order to process what the person is querying.\"\n",
    "\n",
    "return = `{\"query\": [\"query\", \"querying\"]}`\n",
    "\n",
    "2.\n",
    "text = I really loved the movie and show, the movie was showing reality but it showed sometimes nonesense!\n",
    "\n",
    "return = `{\"show\": [\"show\", \"showing\", \"showed\"]}` **(Note: it should not return \"movie\" because both \"movie\"s are NOUN)**"
   ]
  },
  {
   "cell_type": "code",
   "execution_count": 4,
   "id": "8fab5733",
   "metadata": {
    "id": "8fab5733"
   },
   "outputs": [],
   "source": [
    "def common_lemma(my_file_name):\n",
    "    tokens_with_common_lemma = {}\n",
    "    # here comes your code\n",
    "    # Load the spaCy English model\n",
    "    nlp = spacy.load(\"en_core_web_sm\")\n",
    "    # Read the content of the file\n",
    "    with open(my_file_name, 'r', encoding='utf-8') as file:\n",
    "        text = file.read()\n",
    "    \n",
    "    doc = nlp(text)\n",
    "    \n",
    "    for token in doc:\n",
    "        if (token.lemma_ not in tokens_with_common_lemma.keys()):    \n",
    "            tokens_with_common_lemma[token.lemma_] = []\n",
    "        \n",
    "        if(token.pos_ in ['NOUN','VERB']):\n",
    "            tokens_with_common_lemma[token.lemma_].append(token)\n",
    "        \n",
    "        \n",
    "    return tokens_with_common_lemma"
   ]
  },
  {
   "cell_type": "code",
   "execution_count": 5,
   "id": "acaa4d2a-2a6e-4778-a436-b0dbe5090c38",
   "metadata": {
    "tags": []
   },
   "outputs": [
    {
     "name": "stdout",
     "output_type": "stream",
     "text": [
      "{'when': [], 'user': [users], 'google': [google], 'for': [], 'a': [], 'word': [word], 'or': [], 'any': [], 'query': [query, querying], ',': [], 'their': [], 'system': [system], 'internally': [], 'run': [runs], 'pipeline': [pipeline], 'in': [], 'order': [order], 'to': [], 'process': [process], 'what': [], 'the': [], 'person': [person], 'be': [], '.': []}\n"
     ]
    }
   ],
   "source": [
    "print(common_lemma(\"task2_1.txt\"))"
   ]
  },
  {
   "cell_type": "code",
   "execution_count": 6,
   "id": "271737a8-6b6e-4519-9a06-450be7fa01e8",
   "metadata": {
    "tags": []
   },
   "outputs": [
    {
     "name": "stdout",
     "output_type": "stream",
     "text": [
      "{'I': [], 'really': [], 'love': [loved], 'the': [], 'movie': [movie, movie], 'and': [], 'show': [show, showing, showed], ',': [], 'be': [], 'reality': [reality], 'but': [], 'it': [], 'sometimes': [], 'nonesense': [], '!': []}\n"
     ]
    }
   ],
   "source": [
    "print(common_lemma(\"task2_2.txt\"))"
   ]
  },
  {
   "cell_type": "markdown",
   "id": "d46d27e0-56fc-40b9-b510-b2d94c90bcf3",
   "metadata": {
    "id": "d46d27e0-56fc-40b9-b510-b2d94c90bcf3"
   },
   "source": [
    "### Task 3 (1 point)\n",
    "\n",
    "a) Load the data `bbc-text.csv`; This datata consists of 2225 documents from the BBC news website corresponding to stories from 2004-2005."
   ]
  },
  {
   "cell_type": "code",
   "execution_count": 7,
   "id": "078c0e6a-008d-4c4b-bfd9-6e2bc6e484a8",
   "metadata": {
    "tags": []
   },
   "outputs": [],
   "source": [
    "import pandas as pd\n",
    "import matplotlib.pyplot as plt"
   ]
  },
  {
   "cell_type": "code",
   "execution_count": 8,
   "id": "fac56bf9-aba8-48c7-9dcd-a46d53426f82",
   "metadata": {
    "id": "fac56bf9-aba8-48c7-9dcd-a46d53426f82"
   },
   "outputs": [],
   "source": [
    "bbc_df = pd.read_csv(\"bbc-news.csv\")"
   ]
  },
  {
   "cell_type": "markdown",
   "id": "32d6bf1c-a802-4ca6-a74e-ace4fd914626",
   "metadata": {
    "id": "32d6bf1c-a802-4ca6-a74e-ace4fd914626"
   },
   "source": [
    "### Task 4 (1 point)\n",
    "\n",
    "a) Show how many articles we have for each topical area (class label) in the dataset using a plot."
   ]
  },
  {
   "cell_type": "code",
   "execution_count": 9,
   "id": "875a692c-43c5-4c96-9e7b-2442db05e71b",
   "metadata": {
    "tags": []
   },
   "outputs": [],
   "source": [
    "category_counts = bbc_df['category'].value_counts()"
   ]
  },
  {
   "cell_type": "code",
   "execution_count": 10,
   "id": "c93ef9d8-52c2-4508-ad94-91525476d9a4",
   "metadata": {
    "id": "c93ef9d8-52c2-4508-ad94-91525476d9a4"
   },
   "outputs": [
    {
     "data": {
      "text/plain": [
       "Text(0, 0.5, 'Count')"
      ]
     },
     "execution_count": 10,
     "metadata": {},
     "output_type": "execute_result"
    },
    {
     "data": {
      "image/png": "[encoded data removed]",
      "text/plain": [
       "<Figure size 720x432 with 1 Axes>"
      ]
     },
     "metadata": {
      "needs_background": "light"
     },
     "output_type": "display_data"
    }
   ],
   "source": [
    "# Bar chart\n",
    "plt.figure(figsize=(10, 6))\n",
    "#category_counts.plot(kind='bar', color='skyblue')\n",
    "categories = category_counts.index\n",
    "counts = category_counts.values\n",
    "plt.bar(categories, counts, color='skyblue')\n",
    "plt.xticks(rotation=45, ha='right')  # Rotate x-axis labels for better visibility\n",
    "plt.title('Category Counts')\n",
    "plt.xlabel('Category')\n",
    "plt.ylabel('Count')"
   ]
  },
  {
   "cell_type": "markdown",
   "id": "cd667360-ae62-4f70-8236-9e9d11ab29d7",
   "metadata": {
    "id": "cd667360-ae62-4f70-8236-9e9d11ab29d7"
   },
   "source": [
    "### Task 5 (2 point)\n",
    "\n",
    "a) Preprocessing: Define two following functions and apply them to the dataset:\n",
    "1. Remove punctuation\n",
    "2. Remove any numbers"
   ]
  },
  {
   "cell_type": "code",
   "execution_count": 11,
   "id": "e9eec4db-6c2e-433e-b4ec-701ad16c93cd",
   "metadata": {
    "tags": []
   },
   "outputs": [],
   "source": [
    "import string"
   ]
  },
  {
   "cell_type": "code",
   "execution_count": 12,
   "id": "8f3d69ff-c80a-468e-a6be-af5538a8c2b9",
   "metadata": {
    "id": "8f3d69ff-c80a-468e-a6be-af5538a8c2b9"
   },
   "outputs": [],
   "source": [
    "def remove_punctuation(corpus):\n",
    "    cleaned_corpus = corpus.copy()\n",
    "    cleaned_corpus['text'] = cleaned_corpus['text'].apply(lambda x: ''.join(char for char in x if char not in string.punctuation))\n",
    "    return(cleaned_corpus)\n",
    "\n",
    "def remove_numbers(corpus):\n",
    "    cleaned_corpus = corpus.copy()\n",
    "    cleaned_corpus['text'] = cleaned_corpus['text'].apply(lambda x: ''.join(char for char in x if not char.isdigit()))\n",
    "    return(cleaned_corpus)"
   ]
  },
  {
   "cell_type": "code",
   "execution_count": 13,
   "id": "b5649c20-76c3-4452-8b5a-1f7221d99b40",
   "metadata": {
    "tags": []
   },
   "outputs": [],
   "source": [
    "cleaned1 = remove_punctuation(bbc_df)"
   ]
  },
  {
   "cell_type": "code",
   "execution_count": 14,
   "id": "b1a881e2-2d31-48ef-a5b3-83073e1fe998",
   "metadata": {
    "tags": []
   },
   "outputs": [
    {
     "data": {
      "text/plain": [
       "'crude oil prices back above $50 cold weather across parts of the united states and much of europe has pushed us crude oil prices above $50 a barrel for the first time in almost three months.  freezing temperatures and heavy snowfall have increased demand for heating fuel in the us  where stocks are low. fresh falls in the value of the dollar helped carry prices above the $50 mark for the first time since november. a barrel of us crude oil closed up $2.80 to $51.15 in new york on tuesday. opec members said on tuesday that it saw no reason to cut its output.  although below last year s peak of $55.67 a barrel  which was reached in october  prices are now well above 2004 s average of $41.48.  brent crude also rose in london trading  adding $1.89 to $48.62 at the close. much of western europe and the north east of america has been shivering under unseasonably low temperatures in recent days. the decline in the us dollar to a five-week low against the euro has also served to inflate prices.  the dollar moved sharply overnight and oil is following it   said chris furness  senior market strategist at 4cast.  if the dollar continues to weaken  oil will be obviously higher.   several opec members said a cut in production was unlikely  citing rising prices and strong demand for oil from asia.  i agree that we do not need to cut supply if the prices are as much as this   fathi bin shatwan  libya s oil minister  told reuters.  i do not think we need to cut unless the prices are falling below $35 a barrel   he added. opec closely watches global stocks to ensure that there is not an excessive supply in the market. the arrival of spring in the northern hemisphere will focus attention on stockpiles of us crude and gasoline  which are up to 9% higher than at this time last year. heavy stockpiles could help force prices lower when demand eases.'"
      ]
     },
     "execution_count": 14,
     "metadata": {},
     "output_type": "execute_result"
    }
   ],
   "source": [
    "bbc_df.loc[12, 'text']"
   ]
  },
  {
   "cell_type": "code",
   "execution_count": 15,
   "id": "9bd15f6a-42b7-4756-afa2-181c06bd75f5",
   "metadata": {
    "tags": []
   },
   "outputs": [
    {
     "data": {
      "text/plain": [
       "'crude oil prices back above 50 cold weather across parts of the united states and much of europe has pushed us crude oil prices above 50 a barrel for the first time in almost three months  freezing temperatures and heavy snowfall have increased demand for heating fuel in the us  where stocks are low fresh falls in the value of the dollar helped carry prices above the 50 mark for the first time since november a barrel of us crude oil closed up 280 to 5115 in new york on tuesday opec members said on tuesday that it saw no reason to cut its output  although below last year s peak of 5567 a barrel  which was reached in october  prices are now well above 2004 s average of 4148  brent crude also rose in london trading  adding 189 to 4862 at the close much of western europe and the north east of america has been shivering under unseasonably low temperatures in recent days the decline in the us dollar to a fiveweek low against the euro has also served to inflate prices  the dollar moved sharply overnight and oil is following it   said chris furness  senior market strategist at 4cast  if the dollar continues to weaken  oil will be obviously higher   several opec members said a cut in production was unlikely  citing rising prices and strong demand for oil from asia  i agree that we do not need to cut supply if the prices are as much as this   fathi bin shatwan  libya s oil minister  told reuters  i do not think we need to cut unless the prices are falling below 35 a barrel   he added opec closely watches global stocks to ensure that there is not an excessive supply in the market the arrival of spring in the northern hemisphere will focus attention on stockpiles of us crude and gasoline  which are up to 9 higher than at this time last year heavy stockpiles could help force prices lower when demand eases'"
      ]
     },
     "execution_count": 15,
     "metadata": {},
     "output_type": "execute_result"
    }
   ],
   "source": [
    "cleaned1.loc[12, 'text']"
   ]
  },
  {
   "cell_type": "code",
   "execution_count": 16,
   "id": "e90d0b64-210d-460a-ba05-822fbcbb4abe",
   "metadata": {},
   "outputs": [],
   "source": [
    "cleaned2 = remove_numbers(bbc_df)"
   ]
  },
  {
   "cell_type": "code",
   "execution_count": 17,
   "id": "ff77bc2d-dc04-4c3e-bc13-292985e59276",
   "metadata": {},
   "outputs": [
    {
     "data": {
      "text/plain": [
       "'crude oil prices back above $50 cold weather across parts of the united states and much of europe has pushed us crude oil prices above $50 a barrel for the first time in almost three months.  freezing temperatures and heavy snowfall have increased demand for heating fuel in the us  where stocks are low. fresh falls in the value of the dollar helped carry prices above the $50 mark for the first time since november. a barrel of us crude oil closed up $2.80 to $51.15 in new york on tuesday. opec members said on tuesday that it saw no reason to cut its output.  although below last year s peak of $55.67 a barrel  which was reached in october  prices are now well above 2004 s average of $41.48.  brent crude also rose in london trading  adding $1.89 to $48.62 at the close. much of western europe and the north east of america has been shivering under unseasonably low temperatures in recent days. the decline in the us dollar to a five-week low against the euro has also served to inflate prices.  the dollar moved sharply overnight and oil is following it   said chris furness  senior market strategist at 4cast.  if the dollar continues to weaken  oil will be obviously higher.   several opec members said a cut in production was unlikely  citing rising prices and strong demand for oil from asia.  i agree that we do not need to cut supply if the prices are as much as this   fathi bin shatwan  libya s oil minister  told reuters.  i do not think we need to cut unless the prices are falling below $35 a barrel   he added. opec closely watches global stocks to ensure that there is not an excessive supply in the market. the arrival of spring in the northern hemisphere will focus attention on stockpiles of us crude and gasoline  which are up to 9% higher than at this time last year. heavy stockpiles could help force prices lower when demand eases.'"
      ]
     },
     "execution_count": 17,
     "metadata": {},
     "output_type": "execute_result"
    }
   ],
   "source": [
    "bbc_df.loc[12, 'text']"
   ]
  },
  {
   "cell_type": "code",
   "execution_count": 18,
   "id": "6fa272d1-b19e-485a-afb8-17bb56f2016c",
   "metadata": {
    "tags": []
   },
   "outputs": [
    {
     "data": {
      "text/plain": [
       "'crude oil prices back above $ cold weather across parts of the united states and much of europe has pushed us crude oil prices above $ a barrel for the first time in almost three months.  freezing temperatures and heavy snowfall have increased demand for heating fuel in the us  where stocks are low. fresh falls in the value of the dollar helped carry prices above the $ mark for the first time since november. a barrel of us crude oil closed up $. to $. in new york on tuesday. opec members said on tuesday that it saw no reason to cut its output.  although below last year s peak of $. a barrel  which was reached in october  prices are now well above  s average of $..  brent crude also rose in london trading  adding $. to $. at the close. much of western europe and the north east of america has been shivering under unseasonably low temperatures in recent days. the decline in the us dollar to a five-week low against the euro has also served to inflate prices.  the dollar moved sharply overnight and oil is following it   said chris furness  senior market strategist at cast.  if the dollar continues to weaken  oil will be obviously higher.   several opec members said a cut in production was unlikely  citing rising prices and strong demand for oil from asia.  i agree that we do not need to cut supply if the prices are as much as this   fathi bin shatwan  libya s oil minister  told reuters.  i do not think we need to cut unless the prices are falling below $ a barrel   he added. opec closely watches global stocks to ensure that there is not an excessive supply in the market. the arrival of spring in the northern hemisphere will focus attention on stockpiles of us crude and gasoline  which are up to % higher than at this time last year. heavy stockpiles could help force prices lower when demand eases.'"
      ]
     },
     "execution_count": 18,
     "metadata": {},
     "output_type": "execute_result"
    }
   ],
   "source": [
    "cleaned2.loc[12, 'text']"
   ]
  },
  {
   "cell_type": "code",
   "execution_count": null,
   "id": "aeee690e-9a04-4dda-930f-3dea99cb1e41",
   "metadata": {},
   "outputs": [],
   "source": []
  },
  {
   "cell_type": "code",
   "execution_count": null,
   "id": "71a73129-00e5-4b8b-af22-41fac61d091a",
   "metadata": {},
   "outputs": [],
   "source": []
  },
  {
   "cell_type": "markdown",
   "id": "181fc751-360f-45c8-8528-9dc610cad362",
   "metadata": {
    "id": "181fc751-360f-45c8-8528-9dc610cad362"
   },
   "source": [
    "### Task 6 (4 points)\n",
    "\n",
    "a) Load the **large model trained on the web text** provided by spaCy. (`en_core_web_lg`)\n",
    "\n",
    "b) Split the data into trainng and test set (70% and 30%) using scikit-learn, shuffle it, and set the `seed=101 (random_state)`.\n",
    "\n",
    "c) Convert each article in your data splits to a vector representation using the pre-trained spaCy model. (**Hint:** It should be stored as an array)\n",
    "\n",
    "**NOTE:** If working with this dataset is not computationaly possible for you, you can work only with a subset of the dataset (i.e., the first 1000 rows) and use only the first 150 tokens for each article. You should point this out in your code."
   ]
  },
  {
   "cell_type": "code",
   "execution_count": 19,
   "id": "77038980-a29a-4280-a7a2-86e434330684",
   "metadata": {
    "tags": []
   },
   "outputs": [],
   "source": [
    "from sklearn.model_selection import train_test_split"
   ]
  },
  {
   "cell_type": "code",
   "execution_count": 20,
   "id": "3619b0ed-2213-41de-bf9f-95c97344f038",
   "metadata": {
    "id": "3619b0ed-2213-41de-bf9f-95c97344f038"
   },
   "outputs": [],
   "source": [
    "nlp = spacy.load(\"en_core_web_sm\")"
   ]
  },
  {
   "cell_type": "code",
   "execution_count": 21,
   "id": "c6f13d4a-8d5f-4db8-9557-1c1cf6040209",
   "metadata": {
    "tags": []
   },
   "outputs": [],
   "source": [
    "text_train, text_test, category_train, category_test = train_test_split(bbc_df['text'], bbc_df['category'], train_size=0.7, random_state=101, shuffle=True)"
   ]
  },
  {
   "cell_type": "markdown",
   "id": "f788bd06-efd6-47c9-9236-1d8393da2ef9",
   "metadata": {
    "tags": []
   },
   "source": [
    "### Before"
   ]
  },
  {
   "cell_type": "code",
   "execution_count": 22,
   "id": "3677aace-e1bf-4f5d-b0e8-17b620829781",
   "metadata": {
    "tags": []
   },
   "outputs": [
    {
     "data": {
      "text/plain": [
       "920     oscar nominees lack pulling power this year s ...\n",
       "1500    smartphones suffer skulls attack owners of som...\n",
       "1711    souness backs smith for scotland graeme sounes...\n",
       "1978    venezuela reviews foreign deals venezuela is t...\n",
       "1125    parmalat founder offers apology the founder an...\n",
       "                              ...                        \n",
       "599     anti-spam screensaver scrapped a contentious c...\n",
       "1599    britons fed up with net service a survey condu...\n",
       "1361    executive trio leave aer lingus three senior e...\n",
       "1547    j-lo and husband plan debut duet singers jenni...\n",
       "863     online commons to spark debate online communit...\n",
       "Name: text, Length: 1557, dtype: object"
      ]
     },
     "execution_count": 22,
     "metadata": {},
     "output_type": "execute_result"
    }
   ],
   "source": [
    "text_train"
   ]
  },
  {
   "cell_type": "code",
   "execution_count": 23,
   "id": "89c8059a-2308-42ee-a44d-76c149a06b68",
   "metadata": {
    "tags": []
   },
   "outputs": [
    {
     "data": {
      "text/plain": [
       "2148    standard life concern at lse bid standard life...\n",
       "2018    uk plan to deport terror suspects deals are be...\n",
       "37      row threatens hendrix museum plan proposals to...\n",
       "1150    intel unveils laser breakthrough intel has sai...\n",
       "1124    uk s  useless  quangos under fire the uk has 5...\n",
       "                              ...                        \n",
       "1030    blair defends terror law changes the prime min...\n",
       "1006    winemaker rejects foster s offer australian wi...\n",
       "1822    corbett attacks  dumbed-down tv  ronnie corbet...\n",
       "1590    blair moves to woo jewish voters tony blair ha...\n",
       "700     blunkett unveils policing plans people could b...\n",
       "Name: text, Length: 668, dtype: object"
      ]
     },
     "execution_count": 23,
     "metadata": {},
     "output_type": "execute_result"
    }
   ],
   "source": [
    "text_test"
   ]
  },
  {
   "cell_type": "markdown",
   "id": "fb6267bb-e5ad-4ec7-bac4-9920b2fec21f",
   "metadata": {},
   "source": [
    "### Conversion"
   ]
  },
  {
   "cell_type": "code",
   "execution_count": 24,
   "id": "c02be62c-db24-4da8-92a9-f4a60ca399ad",
   "metadata": {
    "tags": []
   },
   "outputs": [],
   "source": [
    "# Our model needs to implement vector() method for token - Okay\n",
    "# Each token has its vector representation defined by model - this is word/token embedding\n",
    "# Embedding of a document (Doc) is nothing but average of all its token.vector values\n",
    "text_train = text_train.apply(lambda text: nlp(text).vector)\n",
    "text_test = text_test.apply(lambda text: nlp(text).vector)\n",
    "\n",
    "# Should I convert category (i.e. single token) to vector representation as well? I think no, bcs makes no sense for labels"
   ]
  },
  {
   "cell_type": "markdown",
   "id": "ad624822-406b-4266-946e-a074adbe255a",
   "metadata": {},
   "source": [
    "### After"
   ]
  },
  {
   "cell_type": "code",
   "execution_count": 25,
   "id": "200ca2ee-b92c-4fd9-a738-e8ab5997c3db",
   "metadata": {
    "tags": []
   },
   "outputs": [
    {
     "data": {
      "text/plain": [
       "920     [0.04587557, -0.18607014, -0.14123145, -0.1141...\n",
       "1500    [0.12738177, -0.15365377, -0.038221546, 0.0435...\n",
       "1711    [-0.0035640586, -0.31219652, -0.010393943, -0....\n",
       "1978    [-0.17555508, -0.1870735, -0.10381903, 0.00155...\n",
       "1125    [0.050612394, -0.12034214, -0.0944168, -0.0187...\n",
       "                              ...                        \n",
       "599     [0.10502731, -0.16653192, -0.015793895, 0.0329...\n",
       "1599    [0.05984366, -0.18024504, -0.12330671, -0.0539...\n",
       "1361    [0.00463871, -0.31176937, -0.06316884, -0.0593...\n",
       "1547    [-0.032687232, -0.37886277, -0.11911188, -0.03...\n",
       "863     [0.026408223, -0.30349988, -0.051335763, -0.02...\n",
       "Name: text, Length: 1557, dtype: object"
      ]
     },
     "execution_count": 25,
     "metadata": {},
     "output_type": "execute_result"
    }
   ],
   "source": [
    "# Now text_train and text_test are converted to vector representation with shape (n,)\n",
    "text_train"
   ]
  },
  {
   "cell_type": "code",
   "execution_count": 26,
   "id": "4b350d3b-cfb5-44f6-9f21-0b7b7a82067a",
   "metadata": {
    "tags": []
   },
   "outputs": [
    {
     "data": {
      "text/plain": [
       "2148    [0.045642063, -0.32679072, 0.028273992, -0.032...\n",
       "2018    [-0.0540397, -0.19143005, -0.05899064, -0.0235...\n",
       "37      [-0.02930799, -0.31975922, -0.02101973, -0.056...\n",
       "1150    [0.08730897, -0.1990134, -0.008594813, -0.0662...\n",
       "1124    [0.029377855, -0.24993962, -0.11951273, -0.035...\n",
       "                              ...                        \n",
       "1030    [0.011091839, -0.2347611, -0.07268334, -0.0358...\n",
       "1006    [-0.018439071, -0.23979437, -0.110605255, -0.0...\n",
       "1822    [-0.06225937, -0.18013778, -0.101292856, -0.10...\n",
       "1590    [-0.06393145, -0.29410613, -0.08078611, -0.049...\n",
       "700     [0.016995754, -0.22626995, 0.0056678588, -0.06...\n",
       "Name: text, Length: 668, dtype: object"
      ]
     },
     "execution_count": 26,
     "metadata": {},
     "output_type": "execute_result"
    }
   ],
   "source": [
    "text_test"
   ]
  },
  {
   "cell_type": "markdown",
   "id": "ff41f871-17b8-497c-a994-bee1cef6cddf",
   "metadata": {
    "tags": []
   },
   "source": [
    "### Note: For this specific model (eng_core_web_sm), word embedding is vector of length (96,)\n",
    "### Note2: I did not run large model (eng_core_web_sm). But as I remember, word embedding for that model is vector of length (300,)"
   ]
  },
  {
   "cell_type": "code",
   "execution_count": 27,
   "id": "c9a7395b-a241-4ec8-af8a-d85d90ed336c",
   "metadata": {
    "tags": []
   },
   "outputs": [
    {
     "data": {
      "text/plain": [
       "96"
      ]
     },
     "execution_count": 27,
     "metadata": {},
     "output_type": "execute_result"
    }
   ],
   "source": [
    "len(text_train.loc[920])"
   ]
  },
  {
   "cell_type": "code",
   "execution_count": 28,
   "id": "29609b7e-82e9-40dc-977c-4ab35582b9bc",
   "metadata": {
    "tags": []
   },
   "outputs": [
    {
     "data": {
      "text/plain": [
       "96"
      ]
     },
     "execution_count": 28,
     "metadata": {},
     "output_type": "execute_result"
    }
   ],
   "source": [
    "len(text_test.loc[2148])"
   ]
  },
  {
   "cell_type": "markdown",
   "id": "88a53269-9dc6-43a8-a071-dc596beee0cf",
   "metadata": {
    "id": "88a53269-9dc6-43a8-a071-dc596beee0cf"
   },
   "source": [
    "### Task 7 (6 points)\n",
    "\n",
    "a) Using the vectors from Task 2, train 3 different models provided by scikit-learn. (**Note:** One of the models must be `MLPClassifier`)\n",
    "\n",
    "b) Evaluate the classifiers on the test set and report the accuracy and confusion matrix. (**Hint:** You should build a confusion matrix for multi-class classification)"
   ]
  },
  {
   "cell_type": "code",
   "execution_count": 29,
   "id": "99008536-9595-4199-8e14-1aaa4d2251ff",
   "metadata": {
    "tags": []
   },
   "outputs": [],
   "source": [
    "from sklearn.preprocessing import LabelEncoder\n",
    "import numpy as np"
   ]
  },
  {
   "cell_type": "code",
   "execution_count": 30,
   "id": "d80276a8-e395-4015-a5d8-00fa7b8e051b",
   "metadata": {
    "id": "d80276a8-e395-4015-a5d8-00fa7b8e051b"
   },
   "outputs": [],
   "source": [
    "from sklearn.neighbors import KNeighborsClassifier\n",
    "from sklearn.svm import SVC\n",
    "from sklearn.ensemble import RandomForestClassifier\n",
    "from sklearn.neural_network import MLPClassifier"
   ]
  },
  {
   "cell_type": "code",
   "execution_count": 31,
   "id": "9b8963cc-453c-45b2-a47a-0fd759bf0a43",
   "metadata": {},
   "outputs": [],
   "source": [
    "classifier_1 = KNeighborsClassifier()\n",
    "classifier_2 = SVC()\n",
    "classifier_3 = RandomForestClassifier()\n",
    "classifier_4 = MLPClassifier()"
   ]
  },
  {
   "cell_type": "code",
   "execution_count": 32,
   "id": "6a700ce2-ba09-4230-a343-4dbd056c6d31",
   "metadata": {},
   "outputs": [],
   "source": [
    "def calculate_accuracy(predicted_labels, gt_labels):\n",
    "    correct_predictions = np.sum(predicted_labels == gt_labels)\n",
    "    total_samples = len(gt_labels)\n",
    "    accuracy = correct_predictions / total_samples\n",
    "    return accuracy"
   ]
  },
  {
   "cell_type": "code",
   "execution_count": 33,
   "id": "1d3eb3a5-3b19-4ba9-8c4d-c01bfae761c3",
   "metadata": {
    "tags": []
   },
   "outputs": [],
   "source": [
    "# Encode categories to nfrom string to numbers\n",
    "# shape: (num_examples,)\n",
    "label_encoder = LabelEncoder()\n",
    "label_encoder.fit(category_train)\n",
    "category_train = label_encoder.transform(category_train)\n",
    "category_test = label_encoder.transform(category_test)"
   ]
  },
  {
   "cell_type": "code",
   "execution_count": 43,
   "id": "a36a55ae-459e-415c-9026-e9be76e8e3de",
   "metadata": {
    "tags": []
   },
   "outputs": [
    {
     "data": {
      "text/plain": [
       "(1557,)"
      ]
     },
     "execution_count": 43,
     "metadata": {},
     "output_type": "execute_result"
    }
   ],
   "source": [
    "category_train.shape"
   ]
  },
  {
   "cell_type": "code",
   "execution_count": 34,
   "id": "876a6463-f251-45bc-8176-14e98dcdec4f",
   "metadata": {
    "tags": []
   },
   "outputs": [],
   "source": [
    "# Make input to shape (num_examples, num_features)\n",
    "text_train = np.vstack(text_train.to_numpy())\n",
    "text_test = np.vstack(text_test.to_numpy())"
   ]
  },
  {
   "cell_type": "code",
   "execution_count": 44,
   "id": "a1c6b415-2f26-4f54-83f3-8eff2cd3a51f",
   "metadata": {
    "tags": []
   },
   "outputs": [
    {
     "data": {
      "text/plain": [
       "(1557, 96)"
      ]
     },
     "execution_count": 44,
     "metadata": {},
     "output_type": "execute_result"
    }
   ],
   "source": [
    "text_train.shape"
   ]
  },
  {
   "cell_type": "code",
   "execution_count": 35,
   "id": "cb63f7c4-673d-44ea-9add-fe830b5269e9",
   "metadata": {
    "tags": []
   },
   "outputs": [
    {
     "name": "stderr",
     "output_type": "stream",
     "text": [
      "/home/faris/miniconda3/envs/nlp/lib/python3.8/site-packages/threadpoolctl.py:1010: RuntimeWarning: \n",
      "Found Intel OpenMP ('libiomp') and LLVM OpenMP ('libomp') loaded at\n",
      "the same time. Both libraries are known to be incompatible and this\n",
      "can cause random crashes or deadlocks on Linux when loaded in the\n",
      "same Python program.\n",
      "Using threadpoolctl may cause crashes or deadlocks. For more\n",
      "information and possible workarounds, please see\n",
      "    https://github.com/joblib/threadpoolctl/blob/master/multiple_openmp.md\n",
      "\n",
      "  warnings.warn(msg, RuntimeWarning)\n"
     ]
    }
   ],
   "source": [
    "classifier_1.fit(text_train, category_train);\n",
    "predicted_label_test_1 = classifier_1.predict(text_test)\n",
    "accuracy_1 = calculate_accuracy(predicted_label_test_1, category_test)"
   ]
  },
  {
   "cell_type": "code",
   "execution_count": 36,
   "id": "1f2f4b01-edde-4bd0-9ebc-11eb7dffd8ef",
   "metadata": {},
   "outputs": [],
   "source": [
    "classifier_2.fit(text_train, category_train);\n",
    "predicted_label_test_2 = classifier_2.predict(text_test)\n",
    "accuracy_2 = calculate_accuracy(predicted_label_test_2, category_test)"
   ]
  },
  {
   "cell_type": "code",
   "execution_count": 37,
   "id": "0416b880-7658-4c4b-9925-fd01f8fea2d2",
   "metadata": {},
   "outputs": [],
   "source": [
    "classifier_3.fit(text_train, category_train);\n",
    "predicted_label_test_3 = classifier_3.predict(text_test)\n",
    "accuracy_3 = calculate_accuracy(predicted_label_test_3, category_test)"
   ]
  },
  {
   "cell_type": "code",
   "execution_count": 38,
   "id": "4f66e4cb-022d-4742-92cc-2cf19a37558a",
   "metadata": {},
   "outputs": [
    {
     "name": "stderr",
     "output_type": "stream",
     "text": [
      "/home/faris/miniconda3/envs/nlp/lib/python3.8/site-packages/sklearn/neural_network/_multilayer_perceptron.py:691: ConvergenceWarning: Stochastic Optimizer: Maximum iterations (200) reached and the optimization hasn't converged yet.\n",
      "  warnings.warn(\n"
     ]
    }
   ],
   "source": [
    "classifier_4.fit(text_train, category_train);\n",
    "predicted_label_test_4 = classifier_4.predict(text_test)\n",
    "accuracy_4 = calculate_accuracy(predicted_label_test_4, category_test)"
   ]
  },
  {
   "cell_type": "code",
   "execution_count": 39,
   "id": "64daf141-a900-4fd8-97e7-88b93cf495ad",
   "metadata": {},
   "outputs": [
    {
     "name": "stdout",
     "output_type": "stream",
     "text": [
      "Accuracy of the KNeighborsClassifier: 0.6901197604790419\n"
     ]
    }
   ],
   "source": [
    "print(\"Accuracy of the KNeighborsClassifier: \" + str(accuracy_1))"
   ]
  },
  {
   "cell_type": "code",
   "execution_count": 40,
   "id": "0e63a935-9a46-4e22-a8f9-b8064ff1b4c5",
   "metadata": {
    "tags": []
   },
   "outputs": [
    {
     "name": "stdout",
     "output_type": "stream",
     "text": [
      "Accuracy of the SVC: 0.7514970059880239\n"
     ]
    }
   ],
   "source": [
    "print(\"Accuracy of the SVC: \" + str(accuracy_2))"
   ]
  },
  {
   "cell_type": "code",
   "execution_count": 41,
   "id": "d98a9bc1-e8af-405c-a8fb-a0507e8b382d",
   "metadata": {
    "tags": []
   },
   "outputs": [
    {
     "name": "stdout",
     "output_type": "stream",
     "text": [
      "Accuracy of the RandomForestClassifier: 0.7125748502994012\n"
     ]
    }
   ],
   "source": [
    "print(\"Accuracy of the RandomForestClassifier: \" + str(accuracy_3))"
   ]
  },
  {
   "cell_type": "code",
   "execution_count": 42,
   "id": "2e172ac8-908d-497d-8f50-96026c370cc7",
   "metadata": {
    "tags": []
   },
   "outputs": [
    {
     "name": "stdout",
     "output_type": "stream",
     "text": [
      "Accuracy of the MLPClassifier: 0.8038922155688623\n"
     ]
    }
   ],
   "source": [
    "print(\"Accuracy of the MLPClassifier: \" + str(accuracy_4))"
   ]
  },
  {
   "cell_type": "code",
   "execution_count": null,
   "id": "bf4e0f55-6b8f-4da2-b4b0-b6f509c3516a",
   "metadata": {},
   "outputs": [],
   "source": []
  },
  {
   "cell_type": "code",
   "execution_count": null,
   "id": "e4117b95-3bb9-45cb-a264-ef221806138d",
   "metadata": {},
   "outputs": [],
   "source": []
  }
 ],
 "metadata": {
  "colab": {
   "provenance": []
  },
  "kernelspec": {
   "display_name": "Python 3",
   "language": "python",
   "name": "python3"
  },
  "language_info": {
   "codemirror_mode": {
    "name": "ipython",
    "version": 3
   },
   "file_extension": ".py",
   "mimetype": "text/x-python",
   "name": "python",
   "nbconvert_exporter": "python",
   "pygments_lexer": "ipython3",
   "version": "3.8.18"
  }
 },
 "nbformat": 4,
 "nbformat_minor": 5
}
